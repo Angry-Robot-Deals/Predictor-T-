{
 "cells": [
  {
   "cell_type": "code",
   "execution_count": 70,
   "id": "2bc3f5ae",
   "metadata": {
    "cellId": "vupn7jzcjv5fx93zq8y6x",
    "execution": {
     "iopub.execute_input": "2023-10-11T19:21:48.050223706Z",
     "iopub.status.busy": "2023-10-11T19:21:48.747374Z",
     "iopub.status.idle": "2023-10-11T19:21:51.605505Z",
     "shell.execute_reply": "2023-10-11T19:21:51.604644Z",
     "shell.execute_reply.started": "2023-10-11T19:21:48.748008Z"
    }
   },
   "outputs": [],
   "source": [
    "from prettytable import PrettyTable as PrettyTable\n",
    "import random\n",
    "import os\n",
    "\n",
    "from src.Agent import Agent\n",
    "from src.Environment import Environment\n",
    "\n",
    "from src.utils import load_data, print_stats, plot_multiple_conf_interval"
   ]
  },
  {
   "cell_type": "code",
   "execution_count": 71,
   "id": "b881757a",
   "metadata": {
    "cellId": "vvdjru81mniprnm4ocpvdc",
    "execution": {
     "iopub.execute_input": "2023-10-11T19:21:48.355478613Z",
     "iopub.status.busy": "2023-10-11T19:21:52.311105Z",
     "iopub.status.idle": "2023-10-11T19:21:55.513278Z",
     "shell.execute_reply": "2023-10-11T19:21:55.512550Z",
     "shell.execute_reply.started": "2023-10-11T19:21:52.311879Z"
    }
   },
   "outputs": [
    {
     "name": "stdout",
     "output_type": "stream",
     "text": [
      "Shape of aggregated dataset: (35058, 4)\n"
     ]
    }
   ],
   "source": [
    "#!c1.4\n",
    "data_path = \"./input/\"\n",
    "models_path = \"./models/\"\n",
    "df = load_data(data_path)\n",
    "\n",
    "# ----------------------------- AGENTS COMPARISON --------------------------------\n",
    "REPLAY_MEM_SIZE = 10000\n",
    "BATCH_SIZE = 40\n",
    "GAMMA = 0.98\n",
    "EPS_START = 1\n",
    "EPS_END = 0.12\n",
    "EPS_STEPS = 300\n",
    "LEARNING_RATE = 0.001\n",
    "INPUT_DIM = 24\n",
    "HIDDEN_DIM = 120\n",
    "ACTION_NUMBER = 3\n",
    "TARGET_UPDATE = 10\n",
    "N_TEST = 10\n",
    "TRADING_PERIOD = 4000\n",
    "\n",
    "index = random.randrange(len(df) - TRADING_PERIOD - 1)"
   ]
  },
  {
   "cell_type": "markdown",
   "id": "21102c30",
   "metadata": {
    "cellId": "drnderkjca7wy92uc7tbbq",
    "execution_id": "93d8fcc9-0e05-4a32-8605-2a3e54bc8232"
   },
   "source": [
    "# ProfitDDQN Agent\n",
    "profit_ddqn_return"
   ]
  },
  {
   "cell_type": "code",
   "execution_count": 72,
   "id": "5968dc1e",
   "metadata": {
    "cellId": "y9wy5tl5qhf961ncim06v6",
    "execution": {
     "iopub.execute_input": "2023-10-11T19:21:49.354361638Z",
     "iopub.status.busy": "2023-10-11T19:21:56.278393Z",
     "iopub.status.idle": "2023-10-11T19:21:56.494174Z",
     "shell.execute_reply": "2023-10-11T19:21:56.493423Z",
     "shell.execute_reply.started": "2023-10-11T19:21:56.279135Z"
    }
   },
   "outputs": [
    {
     "name": "stdout",
     "output_type": "stream",
     "text": [
      "Agent is using device:\tcuda\n"
     ]
    }
   ],
   "source": [
    "double_dqn_agent = Agent(\n",
    "    REPLAY_MEM_SIZE,\n",
    "    BATCH_SIZE,\n",
    "    GAMMA,\n",
    "    EPS_START,\n",
    "    EPS_END,\n",
    "    EPS_STEPS,\n",
    "    LEARNING_RATE,\n",
    "    INPUT_DIM,\n",
    "    HIDDEN_DIM,\n",
    "    ACTION_NUMBER,\n",
    "    TARGET_UPDATE,\n",
    "    MODEL=\"dqn\",\n",
    "    DOUBLE=True,\n",
    ")"
   ]
  },
  {
   "cell_type": "code",
   "execution_count": 73,
   "id": "c8ad659b",
   "metadata": {
    "cellId": "5qz8a1rweos7d6gprunfg2",
    "execution": {
     "iopub.execute_input": "2023-10-11T19:21:49.675277957Z",
     "iopub.status.busy": "2023-10-11T19:21:57.240704Z",
     "iopub.status.idle": "2023-10-11T19:21:57.556487Z",
     "shell.execute_reply": "2023-10-11T19:21:57.555822Z",
     "shell.execute_reply.started": "2023-10-11T19:21:57.241346Z"
    }
   },
   "outputs": [],
   "source": [
    "train_size = int(TRADING_PERIOD * 0.8)\n",
    "profit_ddqn_return = []"
   ]
  },
  {
   "cell_type": "code",
   "execution_count": 74,
   "id": "c5f5c626",
   "metadata": {},
   "outputs": [
    {
     "name": "stdout",
     "output_type": "stream",
     "text": [
      "pretrainded model exist: False\n"
     ]
    }
   ],
   "source": [
    "Train = not os.path.isfile(path=os.path.join(models_path, 'profit_reward_double_dqn_model'))\n",
    "print('pretrainded model exist:', Train)"
   ]
  },
  {
   "cell_type": "code",
   "execution_count": 75,
   "id": "dc3f85a4",
   "metadata": {},
   "outputs": [],
   "source": [
    "if Train:\n",
    "    profit_train_env = Environment(df[index : index + train_size], \"profit\")    \n",
    "    double_dqn_agent_test = double_dqn_agent.train(profit_train_env, models_path)"
   ]
  },
  {
   "cell_type": "code",
   "execution_count": 76,
   "id": "43a858cb",
   "metadata": {},
   "outputs": [],
   "source": [
    "profit_test_env = Environment(\n",
    "    df[index + train_size : index + TRADING_PERIOD], \"profit\"\n",
    ")"
   ]
  },
  {
   "cell_type": "code",
   "execution_count": 77,
   "id": "71026396",
   "metadata": {
    "cellId": "o86nvb3i80lcls3f9kk8hp",
    "execution": {
     "iopub.execute_input": "2023-10-11T19:21:50.015282037Z",
     "iopub.status.busy": "2023-10-11T19:21:58.201248Z",
     "iopub.status.idle": "2023-10-11T19:22:00.653228Z",
     "shell.execute_reply": "2023-10-11T19:22:00.652403Z",
     "shell.execute_reply.started": "2023-10-11T19:21:58.202043Z"
    }
   },
   "outputs": [
    {
     "name": "stderr",
     "output_type": "stream",
     "text": [
      "  0%|          | 0/800 [00:00<?, ?it/s]"
     ]
    },
    {
     "name": "stderr",
     "output_type": "stream",
     "text": [
      " 97%|█████████▋| 775/800 [00:01<00:00, 426.68it/s]\n"
     ]
    }
   ],
   "source": [
    "# Profit Double DQN\n",
    "double_dqn_agent_test, _ = double_dqn_agent.test(\n",
    "    profit_test_env, model_name=\"profit_reward_double_dqn_model\", path=models_path\n",
    ")\n",
    "profit_ddqn_return.append(profit_test_env.cumulative_return)\n",
    "profit_test_env.reset()"
   ]
  },
  {
   "cell_type": "code",
   "execution_count": 78,
   "id": "4f0829b0",
   "metadata": {
    "cellId": "tzz375mqptfolqp2ffxjic",
    "execution": {
     "iopub.execute_input": "2023-10-11T19:21:50.315791388Z",
     "iopub.status.idle": "2023-10-11T19:22:01.044847668Z",
     "shell.execute_reply": "2023-10-11T19:22:01.056745853Z"
    }
   },
   "outputs": [
    {
     "name": "stdout",
     "output_type": "stream",
     "text": [
      "Test nr. 1\n"
     ]
    },
    {
     "name": "stderr",
     "output_type": "stream",
     "text": [
      " 97%|█████████▋| 775/800 [00:01<00:00, 532.98it/s]\n"
     ]
    },
    {
     "name": "stdout",
     "output_type": "stream",
     "text": [
      "Test nr. 2\n"
     ]
    },
    {
     "name": "stderr",
     "output_type": "stream",
     "text": [
      " 97%|█████████▋| 775/800 [00:01<00:00, 456.05it/s]\n"
     ]
    },
    {
     "name": "stdout",
     "output_type": "stream",
     "text": [
      "Test nr. 3\n"
     ]
    },
    {
     "name": "stderr",
     "output_type": "stream",
     "text": [
      " 97%|█████████▋| 775/800 [00:01<00:00, 469.71it/s]\n"
     ]
    },
    {
     "name": "stdout",
     "output_type": "stream",
     "text": [
      "Test nr. 4\n"
     ]
    },
    {
     "name": "stderr",
     "output_type": "stream",
     "text": [
      " 97%|█████████▋| 775/800 [00:01<00:00, 507.42it/s]\n"
     ]
    },
    {
     "name": "stdout",
     "output_type": "stream",
     "text": [
      "Test nr. 5\n"
     ]
    },
    {
     "name": "stderr",
     "output_type": "stream",
     "text": [
      " 97%|█████████▋| 775/800 [00:01<00:00, 395.23it/s]\n"
     ]
    },
    {
     "name": "stdout",
     "output_type": "stream",
     "text": [
      "Test nr. 6\n"
     ]
    },
    {
     "name": "stderr",
     "output_type": "stream",
     "text": [
      " 97%|█████████▋| 775/800 [00:01<00:00, 482.98it/s]\n"
     ]
    },
    {
     "name": "stdout",
     "output_type": "stream",
     "text": [
      "Test nr. 7\n"
     ]
    },
    {
     "name": "stderr",
     "output_type": "stream",
     "text": [
      " 97%|█████████▋| 775/800 [00:01<00:00, 459.83it/s]\n"
     ]
    },
    {
     "name": "stdout",
     "output_type": "stream",
     "text": [
      "Test nr. 8\n"
     ]
    },
    {
     "name": "stderr",
     "output_type": "stream",
     "text": [
      " 97%|█████████▋| 775/800 [00:01<00:00, 445.22it/s]\n"
     ]
    },
    {
     "name": "stdout",
     "output_type": "stream",
     "text": [
      "Test nr. 9\n"
     ]
    },
    {
     "name": "stderr",
     "output_type": "stream",
     "text": [
      " 97%|█████████▋| 775/800 [00:01<00:00, 471.91it/s]\n"
     ]
    },
    {
     "name": "stdout",
     "output_type": "stream",
     "text": [
      "Test nr. 10\n"
     ]
    },
    {
     "name": "stderr",
     "output_type": "stream",
     "text": [
      " 97%|█████████▋| 775/800 [00:01<00:00, 450.37it/s]\n"
     ]
    }
   ],
   "source": [
    "i = 0\n",
    "while i < N_TEST:\n",
    "    print(\"Test nr. %s\" % str(i + 1))\n",
    "    index = random.randrange(len(df) - TRADING_PERIOD - 1)\n",
    "\n",
    "    profit_test_env = Environment(\n",
    "        df[index + train_size : index + TRADING_PERIOD], \"profit\"\n",
    "    )\n",
    "    \n",
    "    # Profit Double DQN\n",
    "    double_dqn_agent_test, _ = double_dqn_agent.test(\n",
    "        profit_test_env, model_name=\"profit_reward_double_dqn_model\", path=models_path\n",
    "    )\n",
    "    profit_ddqn_return.append(profit_test_env.cumulative_return)\n",
    "    profit_test_env.reset()\n",
    "    \n",
    "    i += 1"
   ]
  },
  {
   "cell_type": "code",
   "execution_count": 79,
   "id": "381669ba",
   "metadata": {
    "cellId": "8r2pyheko1cc53g3h83ar",
    "execution": {
     "iopub.execute_input": "2023-10-11T19:21:50.908265120Z",
     "iopub.status.busy": "2023-10-11T19:22:01.280593916Z",
     "iopub.status.idle": "2023-10-11T19:22:01.281846528Z",
     "shell.execute_reply": "2023-10-11T19:22:01.281071215Z"
    }
   },
   "outputs": [
    {
     "name": "stdout",
     "output_type": "stream",
     "text": [
      "+----------------+-----------------+----------------+----------------+-----------+\n",
      "| Trading System | Avg. Return (%) | Max Return (%) | Min Return (%) | Std. Dev. |\n",
      "+----------------+-----------------+----------------+----------------+-----------+\n",
      "|   ProfitDDQN   |      22.86      |     903.99     |     -44.53     |   86.11   |\n",
      "+----------------+-----------------+----------------+----------------+-----------+\n"
     ]
    }
   ],
   "source": [
    "t = PrettyTable(\n",
    "    [\n",
    "        \"Trading System\",\n",
    "        \"Avg. Return (%)\",\n",
    "        \"Max Return (%)\",\n",
    "        \"Min Return (%)\",\n",
    "        \"Std. Dev.\",\n",
    "    ]\n",
    ")\n",
    "print_stats(\"ProfitDDQN\", profit_ddqn_return, t)\n",
    "print(t)"
   ]
  },
  {
   "cell_type": "code",
   "execution_count": 80,
   "id": "f73a301d",
   "metadata": {
    "cellId": "z12tu30h5g8vt7c3z78ux9",
    "execution": {
     "iopub.execute_input": "2023-10-11T19:21:51.274857397Z",
     "iopub.status.busy": "2023-10-11T19:22:01.282472790Z",
     "iopub.status.idle": "2023-10-11T19:22:01.283803329Z",
     "shell.execute_reply": "2023-10-11T19:22:01.283042527Z"
    }
   },
   "outputs": [
    {
     "data": {
      "image/png": "[encoded data removed]",
      "text/plain": [
       "<Figure size 640x480 with 1 Axes>"
      ]
     },
     "metadata": {},
     "output_type": "display_data"
    }
   ],
   "source": [
    "plot_multiple_conf_interval(\n",
    "    [\n",
    "        \"ProfitDDQN\",\n",
    "    ],\n",
    "    [\n",
    "        profit_ddqn_return,\n",
    "    ],\n",
    ")"
   ]
  }
 ],
 "metadata": {
  "kernelspec": {
   "display_name": "Python 3",
   "language": "python",
   "name": "python3"
  },
  "language_info": {
   "codemirror_mode": {
    "name": "ipython",
    "version": 3
   },
   "file_extension": ".py",
   "mimetype": "text/x-python",
   "name": "python",
   "nbconvert_exporter": "python",
   "pygments_lexer": "ipython3",
   "version": "3.10.12"
  },
  "notebookId": "8eacba0c-9b56-4bf6-bec0-e7420706c737",
  "notebookPath": "Trading-Bot---Deep-Reinforcement-Learning/Bot_code_and_models/_research.ipynb"
 },
 "nbformat": 4,
 "nbformat_minor": 5
}
