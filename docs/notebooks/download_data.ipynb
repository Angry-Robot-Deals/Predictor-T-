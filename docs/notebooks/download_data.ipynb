{
 "cells": [
  {
   "cell_type": "markdown",
   "metadata": {},
   "source": [
    "# Fetch historical data"
   ]
  },
  {
   "cell_type": "markdown",
   "metadata": {},
   "source": [
    "Python script to fetch historical data from binance using ccxt"
   ]
  },
  {
   "cell_type": "code",
   "execution_count": null,
   "metadata": {
    "ExecuteTime": {
     "end_time": "2023-06-14T17:34:44.201977Z",
     "start_time": "2023-06-14T17:34:42.766040Z"
    }
   },
   "outputs": [],
   "source": [
    "# Install openpyxl and CCXT\n",
    "%pip install openpyxl ccxt"
   ]
  },
  {
   "cell_type": "code",
   "execution_count": 5,
   "metadata": {
    "ExecuteTime": {
     "end_time": "2023-06-14T17:34:44.358210Z",
     "start_time": "2023-06-14T17:34:44.212013Z"
    }
   },
   "outputs": [],
   "source": [
    "import os\n",
    "from pathlib import Path\n",
    "\n",
    "import sys\n",
    "import csv\n",
    "\n",
    "# -----------------------------------------------------------------------------\n",
    "\n",
    "root = os.path.dirname(os.path.dirname(os.path.dirname(os.path.abspath(''))))\n",
    "sys.path.append(root + '/python')\n",
    "\n",
    "import ccxt\n",
    "\n",
    "\n",
    "# -----------------------------------------------------------------------------\n",
    "\n",
    "def retry_fetch_ohlcv(exchange, max_retries, symbol, timeframe, since, limit):\n",
    "    num_retries = 0\n",
    "    try:\n",
    "        num_retries += 1\n",
    "        ohlcv = exchange.fetch_ohlcv(symbol, timeframe, since, limit)\n",
    "        print('Fetched', len(ohlcv), symbol, 'candles from', exchange.iso8601 (ohlcv[0][0]), 'to', exchange.iso8601 (ohlcv[-1][0]))\n",
    "        return ohlcv\n",
    "    except Exception:\n",
    "        if num_retries > max_retries:\n",
    "            raise  # Exception('Failed to fetch', timeframe, symbol, 'OHLCV in', max_retries, 'attempts')\n",
    "\n",
    "\n",
    "def scrape_ohlcv(exchange, max_retries, symbol, timeframe, since, limit):\n",
    "    earliest_timestamp = exchange.milliseconds()\n",
    "    timeframe_duration_in_seconds = exchange.parse_timeframe(timeframe)\n",
    "    timeframe_duration_in_ms = timeframe_duration_in_seconds * 1000\n",
    "    timedelta = limit * timeframe_duration_in_ms\n",
    "    all_ohlcv = []\n",
    "    while True:\n",
    "        fetch_since = earliest_timestamp - timedelta\n",
    "        ohlcv = retry_fetch_ohlcv(exchange, max_retries, symbol, timeframe, fetch_since, limit)\n",
    "        # if we have reached the beginning of history\n",
    "        if ohlcv[0][0] >= earliest_timestamp:\n",
    "            break\n",
    "        earliest_timestamp = ohlcv[0][0]\n",
    "        all_ohlcv = ohlcv + all_ohlcv\n",
    "        print(len(all_ohlcv), symbol, 'candles in total from', exchange.iso8601(all_ohlcv[0][0]), 'to', exchange.iso8601(all_ohlcv[-1][0]))\n",
    "        # if we have reached the checkpoint\n",
    "        if fetch_since < since:\n",
    "            break\n",
    "    return all_ohlcv\n",
    "\n",
    "\n",
    "def write_to_csv(filename, exchange, data):\n",
    "    p = Path(\".\")\n",
    "    p.mkdir(parents=True, exist_ok=True)\n",
    "    full_path = p / str(filename)\n",
    "    with Path(full_path).open('w+', newline='') as output_file:\n",
    "        csv_writer = csv.writer(output_file, delimiter=',', quotechar='\"', quoting=csv.QUOTE_MINIMAL)\n",
    "        csv_writer.writerows(data)\n",
    "\n",
    "\n",
    "def scrape_candles_to_csv(filename, exchange_id, max_retries, symbol, timeframe, since, limit):\n",
    "    # instantiate the exchange by id\n",
    "    exchange = getattr(ccxt, exchange_id)({\n",
    "        'enableRateLimit': True,  # required by the Manual\n",
    "    })\n",
    "    # convert since from string to milliseconds integer if needed\n",
    "    if isinstance(since, str):\n",
    "        since = exchange.parse8601(since)\n",
    "    # preload all markets from the exchange\n",
    "    exchange.load_markets()\n",
    "    # fetch all candles\n",
    "    ohlcv = scrape_ohlcv(exchange, max_retries, symbol, timeframe, since, limit)\n",
    "    # save them to csv file\n",
    "    write_to_csv(filename, exchange, ohlcv)\n",
    "    print('Saved', len(ohlcv), 'candles from', exchange.iso8601(ohlcv[0][0]), 'to', exchange.iso8601(ohlcv[-1][0]), 'to', filename)\n",
    "    return filename\n"
   ]
  },
  {
   "cell_type": "code",
   "execution_count": null,
   "metadata": {
    "ExecuteTime": {
     "end_time": "2023-06-14T17:34:44.360074Z",
     "start_time": "2023-06-14T17:34:44.358633Z"
    }
   },
   "outputs": [],
   "source": [
    "# scrape_candles_to_csv('btc_usdt_15m_e_20230501.csv', 'binance', 5, 'BTC/USDT', '15m', '2015-05-01T00:00:00Z', 1000)\n",
    "# scrape_candles_to_csv('./data/raw/binance/eth_btc_1m.csv', 'binance', 3, 'ETH/BTC', '1m', '2018-01-01T00:00:00Z', 1000)\n",
    "# scrape_candles_to_csv('./data/raw/binance/ltc_btc_1m.csv', 'binance', 3, 'LTC/BTC', '1m', '2018-01-01T00:00:00Z', 1000)\n",
    "# scrape_candles_to_csv('./data/raw/binance/xlm_btc_1m.csv', 'binance', 3, 'XLM/BTC', '1m', '2018-01-01T00:00:00Z', 1000)"
   ]
  },
  {
   "cell_type": "code",
   "execution_count": 6,
   "metadata": {
    "ExecuteTime": {
     "end_time": "2023-06-14T17:34:50.894432Z",
     "start_time": "2023-06-14T17:34:44.369932Z"
    }
   },
   "outputs": [
    {
     "name": "stdout",
     "output_type": "stream",
     "text": [
      "2023-10-28T22:07:50Z\n",
      "Fetched 1000 BTC/USDT candles from 2023-10-29T02:28:00.000Z to 2023-10-29T19:07:00.000Z\n",
      "1000 BTC/USDT candles in total from 2023-10-29T02:28:00.000Z to 2023-10-29T19:07:00.000Z\n",
      "Fetched 1000 BTC/USDT candles from 2023-10-28T09:48:00.000Z to 2023-10-29T02:27:00.000Z\n",
      "2000 BTC/USDT candles in total from 2023-10-28T09:48:00.000Z to 2023-10-29T19:07:00.000Z\n",
      "Saved 2000 candles from 2023-10-28T09:48:00.000Z to 2023-10-29T19:07:00.000Z to 2023-10-28T220750Z_1m_BTCUSDT.csv\n",
      "2023-10-28T220750Z_1m_BTCUSDT.csv\n"
     ]
    }
   ],
   "source": [
    "from datetime import datetime, timedelta\n",
    "\n",
    "def get_date_one_month_ago():\n",
    "    # Получаем текущую дату\n",
    "    today = datetime.now()\n",
    "\n",
    "    # Вычисляем дату на месяц назад\n",
    "    one_month_ago = today - timedelta(days=1)\n",
    "\n",
    "    # Форматируем дату в нужный формат\n",
    "    formatted_date = one_month_ago.strftime(\"%Y-%m-%dT%H:%M:%SZ\")\n",
    "\n",
    "    return formatted_date\n",
    "\n",
    "# Пример использования функции\n",
    "date_one_month_ago = get_date_one_month_ago()\n",
    "print(date_one_month_ago)\n",
    "\n",
    "\n",
    "exchange = 'binance'\n",
    "ticker = 'BTC/USDT'\n",
    "timeframe = '1m'\n",
    "file = scrape_candles_to_csv(\n",
    "    filename=f'{date_one_month_ago.replace(\":\", \"\").replace(\"/\", \"\")}_{timeframe}_{ticker.replace(\"/\", \"\")}.csv',\n",
    "    exchange_id=exchange,\n",
    "    max_retries=10,\n",
    "    symbol=ticker,\n",
    "    timeframe=timeframe,\n",
    "    since=date_one_month_ago,\n",
    "    limit=1000\n",
    ")\n",
    "\n",
    "print(file)\n"
   ]
  },
  {
   "cell_type": "code",
   "execution_count": 7,
   "metadata": {},
   "outputs": [],
   "source": [
    "import pandas as pd\n",
    "\n",
    "data = pd.read_csv('/home/alxy/Codes/Trading-Bot---Deep-Reinforcement-Learning/Bot_code_and_models/notebooks/2023-10-28T220750Z_1m_BTCUSDT.csv')"
   ]
  },
  {
   "cell_type": "code",
   "execution_count": 3,
   "metadata": {},
   "outputs": [],
   "source": [
    "import pandas as pd\n",
    "\n",
    "# Загрузите CSV-файл в DataFrame\n",
    "df = data\n",
    "\n",
    "# Переименуйте столбцы\n",
    "df.columns = ['Timestamp', 'Open', 'High', 'Low', 'Close', 'Volume']\n",
    "\n",
    "# Удалите столбец \"Timestamp\"\n",
    "df = df.drop('Timestamp', axis=1)\n",
    "\n",
    "# Сохраните DataFrame в новый CSV-файл\n",
    "path = \"\"\n",
    "# filepath = os.path.join(path, )\n",
    "df.to_csv('labeled_df.csv', index=False, header=['Open', 'High', 'Low', 'Close', 'Volume'])\n"
   ]
  },
  {
   "cell_type": "code",
   "execution_count": null,
   "metadata": {},
   "outputs": [],
   "source": []
  }
 ],
 "metadata": {
  "kernelspec": {
   "display_name": "Python 3",
   "language": "python",
   "name": "python3"
  },
  "language_info": {
   "codemirror_mode": {
    "name": "ipython",
    "version": 3
   },
   "file_extension": ".py",
   "mimetype": "text/x-python",
   "name": "python",
   "nbconvert_exporter": "python",
   "pygments_lexer": "ipython3",
   "version": "3.10.12"
  }
 },
 "nbformat": 4,
 "nbformat_minor": 2
}
