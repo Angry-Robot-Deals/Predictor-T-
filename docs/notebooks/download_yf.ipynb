{
 "cells": [
  {
   "cell_type": "code",
   "execution_count": 1,
   "metadata": {},
   "outputs": [
    {
     "name": "stdout",
     "output_type": "stream",
     "text": [
      "                                   Open          High           Low  \\\n",
      "Datetime                                                              \n",
      "2023-10-06 20:28:00+00:00  28014.419922  28014.419922  28014.419922   \n",
      "2023-10-06 20:29:00+00:00  28002.062500  28002.062500  28002.062500   \n",
      "2023-10-06 20:30:00+00:00  28002.062500  28002.062500  28002.062500   \n",
      "2023-10-06 20:31:00+00:00  27999.808594  27999.808594  27999.808594   \n",
      "2023-10-06 20:32:00+00:00  28000.121094  28000.121094  28000.121094   \n",
      "\n",
      "                                  Close  \n",
      "Datetime                                 \n",
      "2023-10-06 20:28:00+00:00  28014.419922  \n",
      "2023-10-06 20:29:00+00:00  28002.062500  \n",
      "2023-10-06 20:30:00+00:00  28002.062500  \n",
      "2023-10-06 20:31:00+00:00  27999.808594  \n",
      "2023-10-06 20:32:00+00:00  28000.121094  \n"
     ]
    }
   ],
   "source": [
    "import yfinance as yf\n",
    "\n",
    "# Создание объекта Ticker для Bitcoin\n",
    "btc = yf.Ticker(\"BTC-USD\")\n",
    "\n",
    "# Получение минутных данных за максимальное время\n",
    "btc_minutely_data = btc.history(period=\"max\", interval=\"1m\")\n",
    "\n",
    "# Формирование данных в указанном формате\n",
    "formatted_data = btc_minutely_data[['Open', 'High', 'Low', 'Close']]\n",
    "formatted_data = formatted_data.dropna()  # Удаление строк с пропущенными значениями\n",
    "\n",
    "# Сохранение данных в CSV файл\n",
    "formatted_data.to_csv(\"btc_minute_data.csv\", index=False, float_format='%.4f')\n",
    "\n",
    "# Вывод первых нескольких строк данных\n",
    "print(formatted_data.head())\n"
   ]
  }
 ],
 "metadata": {
  "kernelspec": {
   "display_name": "Python 3",
   "language": "python",
   "name": "python3"
  },
  "language_info": {
   "codemirror_mode": {
    "name": "ipython",
    "version": 3
   },
   "file_extension": ".py",
   "mimetype": "text/x-python",
   "name": "python",
   "nbconvert_exporter": "python",
   "pygments_lexer": "ipython3",
   "version": "3.10.12"
  }
 },
 "nbformat": 4,
 "nbformat_minor": 2
}
